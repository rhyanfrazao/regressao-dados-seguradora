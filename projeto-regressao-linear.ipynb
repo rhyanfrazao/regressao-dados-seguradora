{
 "cells": [
  {
   "cell_type": "markdown",
   "id": "5dc9c7d2-ce40-4264-94ef-8880b5657a0c",
   "metadata": {},
   "source": [
    "# <a>Projeto 2 - Regressão Linear com Scikit Learn</a>\n",
    "\n",
    "Projeto desenvolvido durante o curso Jornada Cientista de Dados do Let's Data"
   ]
  },
  {
   "cell_type": "markdown",
   "id": "9b9ff665-6f91-4189-a90c-985710c24868",
   "metadata": {},
   "source": [
    "# <a>Motivação</a>\n",
    "\n",
    "O Cientista de Dados deve resolver problemas de negócios, e uma grande parte desses problemas é a predição de uma variável numérica contínua (um número real). Quando temos esse tipo de problema podemos modelá-lo utilizando a Regressão.\n",
    "\n",
    "A motivação do projeto é dar o primeiro passo no mundo do Machine Learning, com separação de bases, avaliação de métricas, cross validation e criação e comparação de modelos preditivos. Tudo isso utilizando a biblioteca Scikit Learn.\n",
    "\n",
    "# <a>Objeto de Estudo</a>\n",
    "\n",
    "Vamos trabalhar com informações de Planos de Saúde, já que a área médica e de planos de saúde utilizam muito as técnica de machine learning para avaliar risco dos seus segurados/pacientes. As bases de dados vieram do livro \"Machine Learning with R\" de Brett Lantz, e foi disponibilizada pela equipe do Let's Data.\n",
    "\n",
    "O problema que iremos solucionar é: Prever os gastos com planos de saúde de acordo com as características do segurado. Os resultados são importantes tanto para as seguradoras, para prever quanto o cliente custará a elas, quanto para o segurado, que pode verificar quais características encarecem um plano de saúde."
   ]
  },
  {
   "cell_type": "code",
   "execution_count": 1,
   "id": "6107043c-06f3-402c-bc18-bc3b658ed1e2",
   "metadata": {},
   "outputs": [],
   "source": [
    "# Importando as bibliotecas necessárias:\n",
    "\n",
    "import os\n",
    "import pandas as pd\n",
    "from matplotlib import pyplot as plt\n",
    "import numpy as np\n",
    "import seaborn as sns"
   ]
  },
  {
   "cell_type": "code",
   "execution_count": 2,
   "id": "4c4d7770-e491-47d3-aa86-f10bfa927030",
   "metadata": {},
   "outputs": [],
   "source": [
    "# Configurando o pandas para mostras todas as linhas e colunas:\n",
    "\n",
    "pd.set_option('display.max_rows', None)\n",
    "pd.set_option('display.max_columns', None)\n",
    "\n",
    "# Configurando o pandas para não mostrar notação científica:\n",
    "\n",
    "pd.set_option('display.float_format', lambda x: '%.2f' % x)"
   ]
  },
  {
   "cell_type": "code",
   "execution_count": 3,
   "id": "2f46a705-6377-4be2-be6a-8b631ab1d76e",
   "metadata": {},
   "outputs": [
    {
     "data": {
      "text/html": [
       "<div>\n",
       "<style scoped>\n",
       "    .dataframe tbody tr th:only-of-type {\n",
       "        vertical-align: middle;\n",
       "    }\n",
       "\n",
       "    .dataframe tbody tr th {\n",
       "        vertical-align: top;\n",
       "    }\n",
       "\n",
       "    .dataframe thead th {\n",
       "        text-align: right;\n",
       "    }\n",
       "</style>\n",
       "<table border=\"1\" class=\"dataframe\">\n",
       "  <thead>\n",
       "    <tr style=\"text-align: right;\">\n",
       "      <th></th>\n",
       "      <th>age</th>\n",
       "      <th>sex</th>\n",
       "      <th>bmi</th>\n",
       "      <th>children</th>\n",
       "      <th>smoker</th>\n",
       "      <th>region</th>\n",
       "      <th>charges</th>\n",
       "    </tr>\n",
       "  </thead>\n",
       "  <tbody>\n",
       "    <tr>\n",
       "      <th>0</th>\n",
       "      <td>19</td>\n",
       "      <td>female</td>\n",
       "      <td>27.90</td>\n",
       "      <td>0</td>\n",
       "      <td>yes</td>\n",
       "      <td>southwest</td>\n",
       "      <td>16884.92</td>\n",
       "    </tr>\n",
       "    <tr>\n",
       "      <th>1</th>\n",
       "      <td>18</td>\n",
       "      <td>male</td>\n",
       "      <td>33.77</td>\n",
       "      <td>1</td>\n",
       "      <td>no</td>\n",
       "      <td>southeast</td>\n",
       "      <td>1725.55</td>\n",
       "    </tr>\n",
       "    <tr>\n",
       "      <th>2</th>\n",
       "      <td>28</td>\n",
       "      <td>male</td>\n",
       "      <td>33.00</td>\n",
       "      <td>3</td>\n",
       "      <td>no</td>\n",
       "      <td>southeast</td>\n",
       "      <td>4449.46</td>\n",
       "    </tr>\n",
       "    <tr>\n",
       "      <th>3</th>\n",
       "      <td>33</td>\n",
       "      <td>male</td>\n",
       "      <td>22.70</td>\n",
       "      <td>0</td>\n",
       "      <td>no</td>\n",
       "      <td>northwest</td>\n",
       "      <td>21984.47</td>\n",
       "    </tr>\n",
       "    <tr>\n",
       "      <th>4</th>\n",
       "      <td>32</td>\n",
       "      <td>male</td>\n",
       "      <td>28.88</td>\n",
       "      <td>0</td>\n",
       "      <td>no</td>\n",
       "      <td>northwest</td>\n",
       "      <td>3866.86</td>\n",
       "    </tr>\n",
       "  </tbody>\n",
       "</table>\n",
       "</div>"
      ],
      "text/plain": [
       "   age     sex   bmi  children smoker     region  charges\n",
       "0   19  female 27.90         0    yes  southwest 16884.92\n",
       "1   18    male 33.77         1     no  southeast  1725.55\n",
       "2   28    male 33.00         3     no  southeast  4449.46\n",
       "3   33    male 22.70         0     no  northwest 21984.47\n",
       "4   32    male 28.88         0     no  northwest  3866.86"
      ]
     },
     "execution_count": 3,
     "metadata": {},
     "output_type": "execute_result"
    }
   ],
   "source": [
    "# Importando os dados:\n",
    "\n",
    "df_seguro = pd.read_csv('C:\\data_science\\projeto-regressao\\insurance.csv')\n",
    "df_seguro.head()"
   ]
  },
  {
   "cell_type": "code",
   "execution_count": 4,
   "id": "8355be08-1bde-4882-8918-7fbc1798e18d",
   "metadata": {},
   "outputs": [
    {
     "data": {
      "text/plain": [
       "(1338, 7)"
      ]
     },
     "execution_count": 4,
     "metadata": {},
     "output_type": "execute_result"
    }
   ],
   "source": [
    "# Avaliando o tamanho da minha base:\n",
    "\n",
    "df_seguro.shape"
   ]
  },
  {
   "cell_type": "code",
   "execution_count": 5,
   "id": "f84bc776-7a4a-420d-8a2b-fc25b640a3c9",
   "metadata": {},
   "outputs": [
    {
     "data": {
      "text/plain": [
       "age           int64\n",
       "sex          object\n",
       "bmi         float64\n",
       "children      int64\n",
       "smoker       object\n",
       "region       object\n",
       "charges     float64\n",
       "dtype: object"
      ]
     },
     "execution_count": 5,
     "metadata": {},
     "output_type": "execute_result"
    }
   ],
   "source": [
    "# Avaliando os tipos das features:\n",
    "\n",
    "df_seguro.dtypes"
   ]
  },
  {
   "cell_type": "markdown",
   "id": "6a4881d3-dc85-4edd-ba0f-8a4874e687e4",
   "metadata": {},
   "source": [
    "Percebe-se que a nossa variável target (charges) é do tipo float, logo ela é contínua e trata-se de um problema modelado como regressão"
   ]
  },
  {
   "cell_type": "code",
   "execution_count": 6,
   "id": "149467d5-3972-4203-8444-3f35223faa25",
   "metadata": {},
   "outputs": [
    {
     "name": "stdout",
     "output_type": "stream",
     "text": [
      "<class 'pandas.core.frame.DataFrame'>\n",
      "RangeIndex: 1338 entries, 0 to 1337\n",
      "Data columns (total 7 columns):\n",
      " #   Column    Non-Null Count  Dtype  \n",
      "---  ------    --------------  -----  \n",
      " 0   age       1338 non-null   int64  \n",
      " 1   sex       1338 non-null   object \n",
      " 2   bmi       1338 non-null   float64\n",
      " 3   children  1338 non-null   int64  \n",
      " 4   smoker    1338 non-null   object \n",
      " 5   region    1338 non-null   object \n",
      " 6   charges   1338 non-null   float64\n",
      "dtypes: float64(2), int64(2), object(3)\n",
      "memory usage: 73.3+ KB\n"
     ]
    }
   ],
   "source": [
    "df_seguro.info()"
   ]
  },
  {
   "cell_type": "markdown",
   "id": "1b31c33c-ca72-4ebd-a0e5-581c79842bf3",
   "metadata": {},
   "source": [
    "Percebe-se que não temos valores nulos em nenhuma das features, logo não será necessário o tratamento de dados faltantes (missing data)"
   ]
  },
  {
   "cell_type": "markdown",
   "id": "64cacc97-8c9a-4268-87d0-88e99000821d",
   "metadata": {},
   "source": [
    "# <a>Começando com Estatística Descritiva</a>\n",
    "\n",
    "Antes de começar os modelos, precisamos conhecer as medidas estatísticas: MTC, Dispersão, Separatrizes e Distribuições. Tudo isso é essencial para compreendermos os nossos dados."
   ]
  },
  {
   "cell_type": "code",
   "execution_count": 7,
   "id": "ca3d0693-11f1-4524-be34-7564db0b4929",
   "metadata": {},
   "outputs": [
    {
     "data": {
      "text/html": [
       "<div>\n",
       "<style scoped>\n",
       "    .dataframe tbody tr th:only-of-type {\n",
       "        vertical-align: middle;\n",
       "    }\n",
       "\n",
       "    .dataframe tbody tr th {\n",
       "        vertical-align: top;\n",
       "    }\n",
       "\n",
       "    .dataframe thead th {\n",
       "        text-align: right;\n",
       "    }\n",
       "</style>\n",
       "<table border=\"1\" class=\"dataframe\">\n",
       "  <thead>\n",
       "    <tr style=\"text-align: right;\">\n",
       "      <th></th>\n",
       "      <th>age</th>\n",
       "      <th>bmi</th>\n",
       "      <th>children</th>\n",
       "      <th>charges</th>\n",
       "    </tr>\n",
       "  </thead>\n",
       "  <tbody>\n",
       "    <tr>\n",
       "      <th>count</th>\n",
       "      <td>1338.00</td>\n",
       "      <td>1338.00</td>\n",
       "      <td>1338.00</td>\n",
       "      <td>1338.00</td>\n",
       "    </tr>\n",
       "    <tr>\n",
       "      <th>mean</th>\n",
       "      <td>39.21</td>\n",
       "      <td>30.66</td>\n",
       "      <td>1.09</td>\n",
       "      <td>13270.42</td>\n",
       "    </tr>\n",
       "    <tr>\n",
       "      <th>std</th>\n",
       "      <td>14.05</td>\n",
       "      <td>6.10</td>\n",
       "      <td>1.21</td>\n",
       "      <td>12110.01</td>\n",
       "    </tr>\n",
       "    <tr>\n",
       "      <th>min</th>\n",
       "      <td>18.00</td>\n",
       "      <td>15.96</td>\n",
       "      <td>0.00</td>\n",
       "      <td>1121.87</td>\n",
       "    </tr>\n",
       "    <tr>\n",
       "      <th>25%</th>\n",
       "      <td>27.00</td>\n",
       "      <td>26.30</td>\n",
       "      <td>0.00</td>\n",
       "      <td>4740.29</td>\n",
       "    </tr>\n",
       "    <tr>\n",
       "      <th>50%</th>\n",
       "      <td>39.00</td>\n",
       "      <td>30.40</td>\n",
       "      <td>1.00</td>\n",
       "      <td>9382.03</td>\n",
       "    </tr>\n",
       "    <tr>\n",
       "      <th>75%</th>\n",
       "      <td>51.00</td>\n",
       "      <td>34.69</td>\n",
       "      <td>2.00</td>\n",
       "      <td>16639.91</td>\n",
       "    </tr>\n",
       "    <tr>\n",
       "      <th>max</th>\n",
       "      <td>64.00</td>\n",
       "      <td>53.13</td>\n",
       "      <td>5.00</td>\n",
       "      <td>63770.43</td>\n",
       "    </tr>\n",
       "  </tbody>\n",
       "</table>\n",
       "</div>"
      ],
      "text/plain": [
       "          age     bmi  children  charges\n",
       "count 1338.00 1338.00   1338.00  1338.00\n",
       "mean    39.21   30.66      1.09 13270.42\n",
       "std     14.05    6.10      1.21 12110.01\n",
       "min     18.00   15.96      0.00  1121.87\n",
       "25%     27.00   26.30      0.00  4740.29\n",
       "50%     39.00   30.40      1.00  9382.03\n",
       "75%     51.00   34.69      2.00 16639.91\n",
       "max     64.00   53.13      5.00 63770.43"
      ]
     },
     "execution_count": 7,
     "metadata": {},
     "output_type": "execute_result"
    }
   ],
   "source": [
    "df_seguro.describe()"
   ]
  },
  {
   "cell_type": "markdown",
   "id": "bd12d4c6-dd93-48f1-b9e4-ca6a209c0284",
   "metadata": {},
   "source": [
    "Começamos pelos valores numéricos: média, desvio padrão, valores máximo e mínimo e as separatrizes. Logo as variáveis categóricas não foram avaliadas."
   ]
  },
  {
   "cell_type": "code",
   "execution_count": 8,
   "id": "e7571a5b-0043-4e7a-841f-4db94ea939f1",
   "metadata": {},
   "outputs": [
    {
     "data": {
      "text/plain": [
       "<Axes: xlabel='age', ylabel='Count'>"
      ]
     },
     "execution_count": 8,
     "metadata": {},
     "output_type": "execute_result"
    },
    {
     "data": {
      "image/png": "[encoded data removed]",
      "text/plain": [
       "<Figure size 640x480 with 1 Axes>"
      ]
     },
     "metadata": {},
     "output_type": "display_data"
    }
   ],
   "source": [
    "# Distribuição das Idades:\n",
    "\n",
    "sns.set_style(\"darkgrid\")\n",
    "plt.tight_layout()\n",
    "sns.histplot(data=df_seguro, x='age')"
   ]
  },
  {
   "cell_type": "markdown",
   "id": "479c1a24-1843-429c-9006-6338bc8abd6d",
   "metadata": {},
   "source": [
    "Existe um pico entre 19 e 22 anos, e depois segue um padrão quase uniforme, com um pequeno vale entre 38 e 40"
   ]
  },
  {
   "cell_type": "code",
   "execution_count": 9,
   "id": "c3eceafb-c1dd-4bf6-89c5-02eb550a1ff4",
   "metadata": {},
   "outputs": [
    {
     "data": {
      "text/plain": [
       "<Axes: xlabel='bmi', ylabel='Count'>"
      ]
     },
     "execution_count": 9,
     "metadata": {},
     "output_type": "execute_result"
    },
    {
     "data": {
      "image/png": "[encoded data removed]",
      "text/plain": [
       "<Figure size 640x480 with 1 Axes>"
      ]
     },
     "metadata": {},
     "output_type": "display_data"
    }
   ],
   "source": [
    "# Distribuição do BMI (Índice de Massa Corporal):\n",
    "\n",
    "sns.set_style(\"darkgrid\")\n",
    "plt.tight_layout()\n",
    "sns.histplot(data=df_seguro, x='bmi')"
   ]
  },
  {
   "cell_type": "markdown",
   "id": "cb147945-4df2-42a5-a3ea-98c4c5d5618c",
   "metadata": {},
   "source": [
    "Percebe-se aqui uma distribuição bem parecida com uma distribuição normal, sem nenhuma cauda muito alongada nem para a esquerda e nem para a direita."
   ]
  },
  {
   "cell_type": "code",
   "execution_count": 11,
   "id": "a3bc218f-d163-47df-84ce-9b0dad91b1ff",
   "metadata": {},
   "outputs": [
    {
     "data": {
      "text/plain": [
       "<Axes: xlabel='children', ylabel='count'>"
      ]
     },
     "execution_count": 11,
     "metadata": {},
     "output_type": "execute_result"
    },
    {
     "data": {
      "image/png": "[encoded data removed]",
      "text/plain": [
       "<Figure size 640x480 with 1 Axes>"
      ]
     },
     "metadata": {},
     "output_type": "display_data"
    }
   ],
   "source": [
    "# Contagem do número de filhos:\n",
    "\n",
    "sns.set_style(\"darkgrid\")\n",
    "plt.tight_layout()\n",
    "sns.countplot(data=df_seguro, x='children')"
   ]
  },
  {
   "cell_type": "markdown",
   "id": "120906b1-02d8-4bb0-b39d-0f80f0fc3b75",
   "metadata": {},
   "source": [
    "A maioria dos segurados não possuem filhos, e esse número vai diminuindo até atingirmos o número máximo de filhos, que na base de dados foi de 5."
   ]
  },
  {
   "cell_type": "code",
   "execution_count": 12,
   "id": "75d5610b-446f-4818-ad12-1b785d325eda",
   "metadata": {},
   "outputs": [
    {
     "data": {
      "text/plain": [
       "<Axes: xlabel='charges', ylabel='Count'>"
      ]
     },
     "execution_count": 12,
     "metadata": {},
     "output_type": "execute_result"
    },
    {
     "data": {
      "image/png": "[encoded data removed]",
      "text/plain": [
       "<Figure size 640x480 with 1 Axes>"
      ]
     },
     "metadata": {},
     "output_type": "display_data"
    }
   ],
   "source": [
    "# Analisando por fim a variável target Valor do Seguro:\n",
    "\n",
    "sns.histplot(data=df_seguro['charges'])"
   ]
  },
  {
   "cell_type": "markdown",
   "id": "69a104cb-b995-4245-bf8c-fcc6a46d32b5",
   "metadata": {},
   "source": [
    "Percebe-se que temos muitos clientes pagando valores mais baixos, e poucos pagando valores mais altos. Ainda é cedo para dizer os motivos, mas talvez a idade e o número de filhos sejam fatores contribuintes. Pessoas jovens vão menos ao hospital, e pessoas sem filhos também."
   ]
  },
  {
   "cell_type": "code",
   "execution_count": null,
   "id": "48979ec5-e1b8-4a9f-9bb5-bfb957861c6c",
   "metadata": {},
   "outputs": [],
   "source": []
  },
  {
   "cell_type": "code",
   "execution_count": null,
   "id": "b7f93fed-9c2c-46f6-9018-72a34c10d5a6",
   "metadata": {},
   "outputs": [],
   "source": []
  },
  {
   "cell_type": "code",
   "execution_count": null,
   "id": "c4fa0cd4-d1a1-43ae-80c5-e6e7cac7545b",
   "metadata": {},
   "outputs": [],
   "source": []
  },
  {
   "cell_type": "code",
   "execution_count": null,
   "id": "ca921231-d078-4c1d-b36d-4b7c53dddaf8",
   "metadata": {},
   "outputs": [],
   "source": []
  }
 ],
 "metadata": {
  "kernelspec": {
   "display_name": "Python 3 (ipykernel)",
   "language": "python",
   "name": "python3"
  },
  "language_info": {
   "codemirror_mode": {
    "name": "ipython",
    "version": 3
   },
   "file_extension": ".py",
   "mimetype": "text/x-python",
   "name": "python",
   "nbconvert_exporter": "python",
   "pygments_lexer": "ipython3",
   "version": "3.10.9"
  }
 },
 "nbformat": 4,
 "nbformat_minor": 5
}
